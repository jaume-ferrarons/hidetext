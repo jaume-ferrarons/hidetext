{
 "cells": [
  {
   "cell_type": "markdown",
   "metadata": {},
   "source": [
    "# Hidetext\n",
    "\n",
    "A python library to hide fragments of text.\n",
    "\n",
    "## Installation\n",
    "\n",
    "## Examples"
   ]
  },
  {
   "cell_type": "code",
   "execution_count": 3,
   "metadata": {},
   "outputs": [
    {
     "name": "stdout",
     "output_type": "stream",
     "text": [
      "\n",
      "Dear Mr Robinson,\n",
      "\n",
      "I'm contacting you regarding \n",
      "My DNI is *********.\n",
      "\n",
      "Email: ****************\n",
      "\n"
     ]
    }
   ],
   "source": [
    "from hidetext import Hidetext\n",
    "\n",
    "hide = Hidetext()\n",
    "\n",
    "print(hide.character(\"\"\"\n",
    "Dear Mr Robinson,\n",
    "\n",
    "I'm contacting you regarding \n",
    "My DNI is 43244328J.\n",
    "\n",
    "Email: fdsfsd@gmail.com\n",
    "\"\"\"))"
   ]
  },
  {
   "cell_type": "code",
   "execution_count": 4,
   "metadata": {},
   "outputs": [
    {
     "name": "stdout",
     "output_type": "stream",
     "text": [
      "\n",
      "Dear Mr Robinson,\n",
      "\n",
      "I'm contacting you regarding \n",
      "My DNI is <ID_CARD>.\n",
      "\n",
      "Email: <EMAIL>\n",
      "\n"
     ]
    }
   ],
   "source": [
    "print(hide.kind(\"\"\"\n",
    "Dear Mr Robinson,\n",
    "\n",
    "I'm contacting you regarding \n",
    "My DNI is 43244328J.\n",
    "\n",
    "Email: fdsfsd@gmail.com\n",
    "\"\"\"))"
   ]
  }
 ],
 "metadata": {
  "kernelspec": {
   "display_name": "Python 3.8.10 ('.venv': poetry)",
   "language": "python",
   "name": "python3"
  },
  "language_info": {
   "codemirror_mode": {
    "name": "ipython",
    "version": 3
   },
   "file_extension": ".py",
   "mimetype": "text/x-python",
   "name": "python",
   "nbconvert_exporter": "python",
   "pygments_lexer": "ipython3",
   "version": "3.8.10"
  },
  "orig_nbformat": 4,
  "vscode": {
   "interpreter": {
    "hash": "c559b2d52db72af873d1d533ab03f87fe3d7c5a9b4dde5583603b6c59dfb15c0"
   }
  }
 },
 "nbformat": 4,
 "nbformat_minor": 2
}
